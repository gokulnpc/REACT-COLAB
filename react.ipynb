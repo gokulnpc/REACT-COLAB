{
  "nbformat": 4,
  "nbformat_minor": 0,
  "metadata": {
    "colab": {
      "provenance": [],
      "toc_visible": true
    },
    "kernelspec": {
      "name": "python3",
      "display_name": "Python 3"
    },
    "language_info": {
      "name": "python"
    }
  },
  "cells": [
    {
      "cell_type": "code",
      "execution_count": null,
      "metadata": {
        "colab": {
          "base_uri": "https://localhost:8080/"
        },
        "id": "7SFCmknHclMT",
        "outputId": "d73387c2-e576-4085-a6f2-4481421aa122"
      },
      "outputs": [
        {
          "output_type": "stream",
          "name": "stdout",
          "text": [
            "\u001b[K\u001b[?25hnpx: installed 67 in 8.782s\n",
            "\n",
            "Creating a new React app in \u001b[32m/content/myapp\u001b[39m.\n",
            "\n",
            "Installing packages. This might take a couple of minutes.\n",
            "Installing \u001b[36mreact\u001b[39m, \u001b[36mreact-dom\u001b[39m, and \u001b[36mreact-scripts\u001b[39m with \u001b[36mcra-template\u001b[39m...\n",
            "\n",
            "\u001b[K\u001b[?25h\n",
            "> core-js@3.29.0 postinstall /content/myapp/node_modules/core-js\n",
            "> node -e \"try{require('./postinstall')}catch(e){}\"\n",
            "\n",
            "\n",
            "> core-js-pure@3.29.0 postinstall /content/myapp/node_modules/core-js-pure\n",
            "> node -e \"try{require('./postinstall')}catch(e){}\"\n",
            "\n",
            "\u001b[K\u001b[?25h+ react-scripts@5.0.1\n",
            "+ react-dom@18.2.0\n",
            "+ react@18.2.0\n",
            "+ cra-template@1.2.0\n",
            "added 1430 packages from 625 contributors in 85.034s\n",
            "\n",
            "231 packages are looking for funding\n",
            "  run `npm fund` for details\n",
            "\n",
            "\n",
            "Initialized a git repository.\n",
            "\n",
            "Installing template dependencies using npm...\n",
            "\u001b[K\u001b[?25h\u001b[37;40mnpm\u001b[0m \u001b[0m\u001b[30;43mWARN\u001b[0m\u001b[35m\u001b[0m @apideck/better-ajv-errors@0.3.6 requires a peer of ajv@>=8 but none is installed. You must install peer dependencies yourself.\n",
            "\u001b[0m\u001b[37;40mnpm\u001b[0m \u001b[0m\u001b[30;43mWARN\u001b[0m\u001b[35m\u001b[0m fork-ts-checker-webpack-plugin@6.5.2 requires a peer of typescript@>= 2.7 but none is installed. You must install peer dependencies yourself.\n",
            "\u001b[0m\u001b[37;40mnpm\u001b[0m \u001b[0m\u001b[30;43mWARN\u001b[0m\u001b[35m\u001b[0m tsutils@3.21.0 requires a peer of typescript@>=2.8.0 || >= 3.2.0-dev || >= 3.3.0-dev || >= 3.4.0-dev || >= 3.5.0-dev || >= 3.6.0-dev || >= 3.6.0-beta || >= 3.7.0-dev || >= 3.7.0-beta but none is installed. You must install peer dependencies yourself.\n",
            "\u001b[0m\u001b[37;40mnpm\u001b[0m \u001b[0m\u001b[30;43mWARN\u001b[0m \u001b[0m\u001b[35moptional\u001b[0m SKIPPING OPTIONAL DEPENDENCY: fsevents@2.3.2 (node_modules/fsevents):\n",
            "\u001b[0m\u001b[37;40mnpm\u001b[0m \u001b[0m\u001b[30;43mWARN\u001b[0m \u001b[0m\u001b[35mnotsup\u001b[0m SKIPPING OPTIONAL DEPENDENCY: Unsupported platform for fsevents@2.3.2: wanted {\"os\":\"darwin\",\"arch\":\"any\"} (current: {\"os\":\"linux\",\"arch\":\"x64\"})\n",
            "\u001b[0m\n",
            "+ @testing-library/jest-dom@5.16.5\n",
            "+ @testing-library/react@13.4.0\n",
            "+ @testing-library/user-event@13.5.0\n",
            "+ web-vitals@2.1.4\n",
            "added 55 packages from 81 contributors in 15.264s\n",
            "\n",
            "231 packages are looking for funding\n",
            "  run `npm fund` for details\n",
            "\n",
            "Removing template package using npm...\n",
            "\n",
            "\u001b[K\u001b[?25h\u001b[37;40mnpm\u001b[0m \u001b[0m\u001b[30;43mWARN\u001b[0m\u001b[35m\u001b[0m @apideck/better-ajv-errors@0.3.6 requires a peer of ajv@>=8 but none is installed. You must install peer dependencies yourself.\n",
            "\u001b[0m\u001b[37;40mnpm\u001b[0m \u001b[0m\u001b[30;43mWARN\u001b[0m\u001b[35m\u001b[0m fork-ts-checker-webpack-plugin@6.5.2 requires a peer of typescript@>= 2.7 but none is installed. You must install peer dependencies yourself.\n",
            "\u001b[0m\u001b[37;40mnpm\u001b[0m \u001b[0m\u001b[30;43mWARN\u001b[0m\u001b[35m\u001b[0m tsutils@3.21.0 requires a peer of typescript@>=2.8.0 || >= 3.2.0-dev || >= 3.3.0-dev || >= 3.4.0-dev || >= 3.5.0-dev || >= 3.6.0-dev || >= 3.6.0-beta || >= 3.7.0-dev || >= 3.7.0-beta but none is installed. You must install peer dependencies yourself.\n",
            "\u001b[0m\u001b[37;40mnpm\u001b[0m \u001b[0m\u001b[30;43mWARN\u001b[0m \u001b[0m\u001b[35moptional\u001b[0m SKIPPING OPTIONAL DEPENDENCY: fsevents@2.3.2 (node_modules/fsevents):\n",
            "\u001b[0m\u001b[37;40mnpm\u001b[0m \u001b[0m\u001b[30;43mWARN\u001b[0m \u001b[0m\u001b[35mnotsup\u001b[0m SKIPPING OPTIONAL DEPENDENCY: Unsupported platform for fsevents@2.3.2: wanted {\"os\":\"darwin\",\"arch\":\"any\"} (current: {\"os\":\"linux\",\"arch\":\"x64\"})\n",
            "\u001b[0m\n",
            "\u001b[K\u001b[?25hremoved 1 package and audited 1485 packages in 10.42s\n",
            "\n",
            "231 packages are looking for funding\n",
            "  run `npm fund` for details\n",
            "\n",
            "found 1 \u001b[91mhigh\u001b[0m severity vulnerability\n",
            "  run `npm audit fix` to fix them, or `npm audit` for details\n",
            "\u001b[K\u001b[?25hGit commit not created Error: Command failed: git commit -m \"Initialize project using Create React App\"\n",
            "\u001b[90m    at checkExecSyncError (child_process.js:616:11)\u001b[39m\n",
            "\u001b[90m    at execSync (child_process.js:652:15)\u001b[39m\n",
            "    at tryGitCommit (/content/myapp/node_modules/\u001b[4mreact-scripts\u001b[24m/scripts/init.js:62:5)\n",
            "    at module.exports (/content/myapp/node_modules/\u001b[4mreact-scripts\u001b[24m/scripts/init.js:350:25)\n",
            "    at [eval]:3:14\n",
            "\u001b[90m    at Script.runInThisContext (vm.js:133:18)\u001b[39m\n",
            "\u001b[90m    at Object.runInThisContext (vm.js:310:38)\u001b[39m\n",
            "\u001b[90m    at internal/process/execution.js:77:19\u001b[39m\n",
            "    at [eval]-wrapper:6:22\n",
            "\u001b[90m    at evalScript (internal/process/execution.js:76:60)\u001b[39m {\n",
            "  status: \u001b[33m128\u001b[39m,\n",
            "  signal: \u001b[1mnull\u001b[22m,\n",
            "  output: [ \u001b[1mnull\u001b[22m, \u001b[1mnull\u001b[22m, \u001b[1mnull\u001b[22m ],\n",
            "  pid: \u001b[33m893\u001b[39m,\n",
            "  stdout: \u001b[1mnull\u001b[22m,\n",
            "  stderr: \u001b[1mnull\u001b[22m\n",
            "}\n",
            "Removing .git directory...\n",
            "\n",
            "Success! Created myapp at /content/myapp\n",
            "Inside that directory, you can run several commands:\n",
            "\n",
            "\u001b[36m  npm start\u001b[39m\n",
            "    Starts the development server.\n",
            "\n",
            "\u001b[36m  npm run build\u001b[39m\n",
            "    Bundles the app into static files for production.\n",
            "\n",
            "\u001b[36m  npm test\u001b[39m\n",
            "    Starts the test runner.\n",
            "\n",
            "\u001b[36m  npm run eject\u001b[39m\n",
            "    Removes this tool and copies build dependencies, configuration files\n",
            "    and scripts into the app directory. If you do this, you can’t go back!\n",
            "\n",
            "We suggest that you begin by typing:\n",
            "\n",
            "\u001b[36m  cd\u001b[39m myapp\n",
            "  \u001b[36mnpm start\u001b[39m\n",
            "\n",
            "Happy hacking!\n"
          ]
        }
      ],
      "source": [
        "!npx create-react-app myapp"
      ]
    },
    {
      "cell_type": "code",
      "source": [
        "%cd myapp"
      ],
      "metadata": {
        "colab": {
          "base_uri": "https://localhost:8080/"
        },
        "id": "-MFCOHHpc7ze",
        "outputId": "5e4c8cf6-3a10-41ac-a449-6470acad5a89"
      },
      "execution_count": 12,
      "outputs": [
        {
          "output_type": "stream",
          "name": "stdout",
          "text": [
            "[Errno 2] No such file or directory: 'myapp'\n",
            "/content/myapp\n"
          ]
        }
      ]
    },
    {
      "cell_type": "code",
      "source": [
        "!pip install pyngrok --quiet"
      ],
      "metadata": {
        "colab": {
          "base_uri": "https://localhost:8080/"
        },
        "id": "ZQLaB5lwc-K9",
        "outputId": "54484947-dfa5-4505-ce87-bd0ca784f7c8"
      },
      "execution_count": null,
      "outputs": [
        {
          "output_type": "stream",
          "name": "stdout",
          "text": [
            "\u001b[?25l     \u001b[90m━━━━━━━━━━━━━━━━━━━━━━━━━━━━━━━━━━━━━━━━\u001b[0m \u001b[32m0.0/761.3 KB\u001b[0m \u001b[31m?\u001b[0m eta \u001b[36m-:--:--\u001b[0m\r\u001b[2K     \u001b[91m━━━━━━━━━━━━━━━━\u001b[0m\u001b[91m╸\u001b[0m\u001b[90m━━━━━━━━━━━━━━━━━━━━━━\u001b[0m \u001b[32m327.7/761.3 KB\u001b[0m \u001b[31m9.8 MB/s\u001b[0m eta \u001b[36m0:00:01\u001b[0m\r\u001b[2K     \u001b[90m━━━━━━━━━━━━━━━━━━━━━━━━━━━━━━━━━━━━━━\u001b[0m \u001b[32m761.3/761.3 KB\u001b[0m \u001b[31m11.9 MB/s\u001b[0m eta \u001b[36m0:00:00\u001b[0m\n",
            "\u001b[?25h  Preparing metadata (setup.py) ... \u001b[?25l\u001b[?25hdone\n",
            "  Building wheel for pyngrok (setup.py) ... \u001b[?25l\u001b[?25hdone\n"
          ]
        }
      ]
    },
    {
      "cell_type": "code",
      "source": [
        "from pyngrok import ngrok\n",
        "ngrok.kill()\n",
        "NGROK_AUTH_TOKEN = \"2MSbbMnJBIeXVuNgRizrAkg9f5x_FM9xJtr38C3aMzHKgqkP\"\n",
        "ngrok.set_auth_token(NGROK_AUTH_TOKEN)"
      ],
      "metadata": {
        "id": "eMdVHDMLdGOa"
      },
      "execution_count": 2,
      "outputs": []
    },
    {
      "cell_type": "code",
      "source": [
        "ngrok.connect(3000)"
      ],
      "metadata": {
        "colab": {
          "base_uri": "https://localhost:8080/"
        },
        "id": "9IDL_Gg1dj95",
        "outputId": "f216fe02-086e-4aa2-8aa2-82a3694de146"
      },
      "execution_count": 14,
      "outputs": [
        {
          "output_type": "execute_result",
          "data": {
            "text/plain": [
              "<NgrokTunnel: \"http://d33e-35-229-117-199.ngrok.io\" -> \"http://localhost:3000\">"
            ]
          },
          "metadata": {},
          "execution_count": 14
        }
      ]
    },
    {
      "cell_type": "code",
      "source": [
        "!npm start"
      ],
      "metadata": {
        "colab": {
          "base_uri": "https://localhost:8080/"
        },
        "id": "M-fnxyD0doAN",
        "outputId": "921a13c7-15fe-4e5d-843b-45c26a55b5fe"
      },
      "execution_count": 15,
      "outputs": [
        {
          "output_type": "stream",
          "name": "stdout",
          "text": [
            "\n",
            "> myapp@0.1.0 start /content/myapp\n",
            "> react-scripts start\n",
            "\n",
            "(node:4301) [DEP_WEBPACK_DEV_SERVER_ON_AFTER_SETUP_MIDDLEWARE] DeprecationWarning: 'onAfterSetupMiddleware' option is deprecated. Please use the 'setupMiddlewares' option.\n",
            "(Use `node --trace-deprecation ...` to show where the warning was created)\n",
            "(node:4301) [DEP_WEBPACK_DEV_SERVER_ON_BEFORE_SETUP_MIDDLEWARE] DeprecationWarning: 'onBeforeSetupMiddleware' option is deprecated. Please use the 'setupMiddlewares' option.\n",
            "\u001b[2J\u001b[3J\u001b[H\u001b[36mStarting the development server...\u001b[39m\n",
            "\u001b[36m\u001b[39m\n",
            "\u001b[2J\u001b[3J\u001b[H\u001b[32mCompiled successfully!\u001b[39m\n",
            "\n",
            "You can now view \u001b[1mmyapp\u001b[22m in the browser.\n",
            "\n",
            "  \u001b[1mLocal:\u001b[22m            http://localhost:\u001b[1m3000\u001b[22m\n",
            "  \u001b[1mOn Your Network:\u001b[22m  http://172.28.0.12:\u001b[1m3000\u001b[22m\n",
            "\n",
            "Note that the development build is not optimized.\n",
            "To create a production build, use \u001b[36mnpm run build\u001b[39m.\n",
            "\n",
            "webpack compiled \u001b[1m\u001b[32msuccessfully\u001b[39m\u001b[22m\n"
          ]
        }
      ]
    },
    {
      "cell_type": "code",
      "source": [
        "ngrok.kill()"
      ],
      "metadata": {
        "id": "1Dc47N_ydrYF"
      },
      "execution_count": 3,
      "outputs": []
    }
  ]
}